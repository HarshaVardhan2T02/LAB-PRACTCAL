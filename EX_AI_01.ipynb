{
  "nbformat": 4,
  "nbformat_minor": 0,
  "metadata": {
    "colab": {
      "provenance": [],
      "authorship_tag": "ABX9TyO6b83VN2eadWCAoaofS9su",
      "include_colab_link": true
    },
    "kernelspec": {
      "name": "python3",
      "display_name": "Python 3"
    },
    "language_info": {
      "name": "python"
    }
  },
  "cells": [
    {
      "cell_type": "markdown",
      "metadata": {
        "id": "view-in-github",
        "colab_type": "text"
      },
      "source": [
        "<a href=\"https://colab.research.google.com/github/HarshaVardhan2T02/LAB-PRACTCAL/blob/main/EX_AI_01.ipynb\" target=\"_parent\"><img src=\"https://colab.research.google.com/assets/colab-badge.svg\" alt=\"Open In Colab\"/></a>"
      ]
    },
    {
      "cell_type": "code",
      "source": [
        "import pandas as pd\n",
        "import numpy as np\n",
        "data=pd.read_excel('/content/Car_Sales.xlsx')\n",
        "print(data)"
      ],
      "metadata": {
        "colab": {
          "base_uri": "https://localhost:8080/"
        },
        "id": "856U3QjpvESN",
        "outputId": "11fdf7e3-61d6-461a-b88f-ba01cd738ff7"
      },
      "execution_count": null,
      "outputs": [
        {
          "output_type": "stream",
          "name": "stdout",
          "text": [
            "   Number of TV Ads (x)  Number of Cars Sold (y)\n",
            "0                     1                       14\n",
            "1                     3                       24\n",
            "2                     2                       18\n",
            "3                     1                       17\n",
            "4                     3                       27\n"
          ]
        }
      ]
    },
    {
      "cell_type": "code",
      "metadata": {
        "colab": {
          "base_uri": "https://localhost:8080/"
        },
        "id": "987dca67",
        "outputId": "8b085624-1124-40f8-cc99-0321871a0551"
      },
      "source": [
        "from sklearn.linear_model import LinearRegression\n",
        "\n",
        "# Prepare the data\n",
        "X = df[['Number of TV Ads']] # Independent variable\n",
        "y = df['Number of Cars Sold'] # Dependent variable\n",
        "\n",
        "# Create and fit the model\n",
        "model = LinearRegression()\n",
        "model.fit(X, y)\n",
        "\n",
        "# Get the equation of the linear model\n",
        "# y = mx + c\n",
        "m = model.coef_[0] # Slope\n",
        "c = model.intercept_ # Intercept\n",
        "\n",
        "print(f\"The equation of the linear model is: y = {m:.2f}x + {c:.2f}\")\n",
        "\n",
        "# Interpret the coefficients\n",
        "print(f\"Interpretation of the coefficients:\")\n",
        "print(f\"- The slope ({m:.2f}) indicates that for each additional TV ad aired, the number of cars sold increases by approximately {m:.2f}.\")\n",
        "print(f\"- The intercept ({c:.2f}) represents the predicted number of cars sold when zero TV ads are aired.\")"
      ],
      "execution_count": null,
      "outputs": [
        {
          "output_type": "stream",
          "name": "stdout",
          "text": [
            "The equation of the linear model is: y = 5.00x + 45.00\n",
            "Interpretation of the coefficients:\n",
            "- The slope (5.00) indicates that for each additional TV ad aired, the number of cars sold increases by approximately 5.00.\n",
            "- The intercept (45.00) represents the predicted number of cars sold when zero TV ads are aired.\n"
          ]
        }
      ]
    },
    {
      "cell_type": "code",
      "metadata": {
        "colab": {
          "base_uri": "https://localhost:8080/"
        },
        "id": "f5502a06",
        "outputId": "14597cf1-4447-4306-db40-ea8ce48847d7"
      },
      "source": [
        "# Make a prediction\n",
        "num_tv_ads = 10\n",
        "predicted_cars_sold = model.predict([[num_tv_ads]])\n",
        "\n",
        "print(f\"Predicted number of cars sold when {num_tv_ads} TV ads are aired: {predicted_cars_sold[0]:.2f}\")"
      ],
      "execution_count": null,
      "outputs": [
        {
          "output_type": "stream",
          "name": "stdout",
          "text": [
            "Predicted number of cars sold when 10 TV ads are aired: 95.00\n"
          ]
        },
        {
          "output_type": "stream",
          "name": "stderr",
          "text": [
            "/usr/local/lib/python3.11/dist-packages/sklearn/utils/validation.py:2739: UserWarning: X does not have valid feature names, but LinearRegression was fitted with feature names\n",
            "  warnings.warn(\n"
          ]
        }
      ]
    },
    {
      "cell_type": "code",
      "metadata": {
        "colab": {
          "base_uri": "https://localhost:8080/"
        },
        "id": "62efc4a1",
        "outputId": "63a91ef0-251b-4dc7-d3c7-d8e64cf30787"
      },
      "source": [
        "# Install shap\n",
        "%pip install shap"
      ],
      "execution_count": null,
      "outputs": [
        {
          "output_type": "stream",
          "name": "stdout",
          "text": [
            "Requirement already satisfied: shap in /usr/local/lib/python3.11/dist-packages (0.48.0)\n",
            "Requirement already satisfied: numpy in /usr/local/lib/python3.11/dist-packages (from shap) (2.0.2)\n",
            "Requirement already satisfied: scipy in /usr/local/lib/python3.11/dist-packages (from shap) (1.16.1)\n",
            "Requirement already satisfied: scikit-learn in /usr/local/lib/python3.11/dist-packages (from shap) (1.6.1)\n",
            "Requirement already satisfied: pandas in /usr/local/lib/python3.11/dist-packages (from shap) (2.2.2)\n",
            "Requirement already satisfied: tqdm>=4.27.0 in /usr/local/lib/python3.11/dist-packages (from shap) (4.67.1)\n",
            "Requirement already satisfied: packaging>20.9 in /usr/local/lib/python3.11/dist-packages (from shap) (25.0)\n",
            "Requirement already satisfied: slicer==0.0.8 in /usr/local/lib/python3.11/dist-packages (from shap) (0.0.8)\n",
            "Requirement already satisfied: numba>=0.54 in /usr/local/lib/python3.11/dist-packages (from shap) (0.60.0)\n",
            "Requirement already satisfied: cloudpickle in /usr/local/lib/python3.11/dist-packages (from shap) (3.1.1)\n",
            "Requirement already satisfied: typing-extensions in /usr/local/lib/python3.11/dist-packages (from shap) (4.14.1)\n",
            "Requirement already satisfied: llvmlite<0.44,>=0.43.0dev0 in /usr/local/lib/python3.11/dist-packages (from numba>=0.54->shap) (0.43.0)\n",
            "Requirement already satisfied: python-dateutil>=2.8.2 in /usr/local/lib/python3.11/dist-packages (from pandas->shap) (2.9.0.post0)\n",
            "Requirement already satisfied: pytz>=2020.1 in /usr/local/lib/python3.11/dist-packages (from pandas->shap) (2025.2)\n",
            "Requirement already satisfied: tzdata>=2022.7 in /usr/local/lib/python3.11/dist-packages (from pandas->shap) (2025.2)\n",
            "Requirement already satisfied: joblib>=1.2.0 in /usr/local/lib/python3.11/dist-packages (from scikit-learn->shap) (1.5.1)\n",
            "Requirement already satisfied: threadpoolctl>=3.1.0 in /usr/local/lib/python3.11/dist-packages (from scikit-learn->shap) (3.6.0)\n",
            "Requirement already satisfied: six>=1.5 in /usr/local/lib/python3.11/dist-packages (from python-dateutil>=2.8.2->pandas->shap) (1.17.0)\n"
          ]
        }
      ]
    },
    {
      "cell_type": "code",
      "metadata": {
        "colab": {
          "base_uri": "https://localhost:8080/",
          "height": 323
        },
        "id": "555032c8",
        "outputId": "ac7e9c9e-edda-4ca5-bf94-720b011c4627"
      },
      "source": [
        "import shap\n",
        "\n",
        "# Create a SHAP explainer\n",
        "explainer = shap.Explainer(model, X)\n",
        "\n",
        "# Compute SHAP values\n",
        "shap_values = explainer(X)\n",
        "\n",
        "# Plot a SHAP waterfall plot for the first instance\n",
        "shap.plots.waterfall(shap_values[0])\n",
        "\n",
        "# Plot a SHAP force plot for all instances\n",
        "shap.plots.force(shap_values)"
      ],
      "execution_count": null,
      "outputs": [
        {
          "output_type": "display_data",
          "data": {
            "text/plain": [
              "<Figure size 800x200 with 3 Axes>"
            ],
            "image/png": "[encoded data removed]"
          },
          "metadata": {}
        },
        {
          "output_type": "execute_result",
          "data": {
            "text/plain": [
              "<shap.plots._force.AdditiveForceArrayVisualizer at 0x7a8a0ed2ce10>"
            ],
            "text/html": [
              "\n",
              "<div id='iV7HSD5ZNGIK2WLV7EZFN'>\n",
              "<div style='color: #900; text-align: center;'>\n",
              "  <b>Visualization omitted, Javascript library not loaded!</b><br>\n",
              "  Have you run `initjs()` in this notebook? If this notebook was from another\n",
              "  user you must also trust this notebook (File -> Trust notebook). If you are viewing\n",
              "  this notebook on github the Javascript has been stripped for security. If you are using\n",
              "  JupyterLab this error is because a JupyterLab extension has not yet been written.\n",
              "</div></div>\n",
              " <script>\n",
              "   if (window.SHAP) SHAP.ReactDom.render(\n",
              "    SHAP.React.createElement(SHAP.AdditiveForceArrayVisualizer, {\"outNames\": [\"f(x)\"], \"baseValue\": 60.0, \"link\": \"identity\", \"featureNames\": [\"Number of TV Ads\"], \"explanations\": [{\"outValue\": 50.0, \"simIndex\": 1.0, \"features\": {\"0\": {\"effect\": -9.999999999999998, \"value\": 1.0}}}, {\"outValue\": 55.0, \"simIndex\": 2.0, \"features\": {\"0\": {\"effect\": -4.999999999999999, \"value\": 2.0}}}, {\"outValue\": 60.0, \"simIndex\": 3.0, \"features\": {\"0\": {\"effect\": 0.0, \"value\": 3.0}}}, {\"outValue\": 65.0, \"simIndex\": 4.0, \"features\": {\"0\": {\"effect\": 4.999999999999999, \"value\": 4.0}}}, {\"outValue\": 70.0, \"simIndex\": 5.0, \"features\": {\"0\": {\"effect\": 9.999999999999998, \"value\": 5.0}}}], \"plot_cmap\": \"RdBu\", \"ordering_keys\": null, \"ordering_keys_time_format\": null}),\n",
              "    document.getElementById('iV7HSD5ZNGIK2WLV7EZFN')\n",
              "  );\n",
              "</script>"
            ]
          },
          "metadata": {},
          "execution_count": 5
        }
      ]
    }
  ]
}